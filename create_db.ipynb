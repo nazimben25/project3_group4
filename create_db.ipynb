{
 "cells": [
  {
   "cell_type": "code",
   "execution_count": 1,
   "metadata": {},
   "outputs": [],
   "source": [
    "# Import SQL Alchemy\n",
    "from sqlalchemy import create_engine\n",
    "\n",
    "# Import and establish Base for which classes will be constructed\n",
    "from sqlalchemy.ext.declarative import declarative_base\n",
    "\n",
    "\n",
    "# Import modules to declare columns and column data types\n",
    "from sqlalchemy import Column, Integer, String, Float, Boolean, MetaData, Table\n",
    "\n",
    "# Import the Python SQL toolkit and Object Relational Mapper\n",
    "import sqlalchemy\n",
    "from sqlalchemy.ext.automap import automap_base\n",
    "from sqlalchemy.orm import Session\n",
    "from sqlalchemy import create_engine, inspect"
   ]
  },
  {
   "cell_type": "code",
   "execution_count": 2,
   "metadata": {},
   "outputs": [],
   "source": [
    "import pandas as pd"
   ]
  },
  {
   "cell_type": "code",
   "execution_count": 3,
   "metadata": {},
   "outputs": [],
   "source": [
    "# Create a connection to a SQLite database\n",
    "engine = create_engine('sqlite:///immigration_canada_pr.sqlite')"
   ]
  },
  {
   "cell_type": "code",
   "execution_count": 4,
   "metadata": {},
   "outputs": [
    {
     "name": "stderr",
     "output_type": "stream",
     "text": [
      "C:\\Users\\nazim\\AppData\\Local\\Temp\\ipykernel_21724\\2689982033.py:2: MovedIn20Warning: The ``declarative_base()`` function is now available as sqlalchemy.orm.declarative_base(). (deprecated since: 2.0) (Background on SQLAlchemy 2.0 at: https://sqlalche.me/e/b8d9)\n",
      "  Base = declarative_base()\n"
     ]
    }
   ],
   "source": [
    "# Declare a Base using `automap_base()`\n",
    "Base = declarative_base()"
   ]
  },
  {
   "cell_type": "code",
   "execution_count": 5,
   "metadata": {},
   "outputs": [],
   "source": [
    "# Create the immigration_canada class\n",
    "\n",
    "class countries(Base):\n",
    "\n",
    "    __tablename__ = 'countries'\n",
    "    iso3Code = Column(String(255), primary_key=True) \n",
    "    iso2Code = Column(String(255)) \n",
    "    country = Column(String(255)) \n",
    "    region  = Column(String(255)) \n",
    "    capitalCity = Column(String(255)) \n",
    "    longitude = Column(Float) \n",
    "    latitude = Column(Float) \n",
    " "
   ]
  },
  {
   "cell_type": "code",
   "execution_count": 6,
   "metadata": {},
   "outputs": [],
   "source": [
    "class immigration(Base):\n",
    "\n",
    "    __tablename__ = 'immigration'\n",
    "    index = Column(Integer, primary_key=True) \n",
    "    country = Column(String(255)) \n",
    "    year = Column(Integer)\n",
    "    month_str = Column(String(255))   \n",
    "    month_int = Column(Integer) \n",
    "    quarter = Column(String(255))     \n",
    "    immigration_flow = Column(Integer) "
   ]
  },
  {
   "cell_type": "code",
   "execution_count": 7,
   "metadata": {},
   "outputs": [],
   "source": [
    "class macrodata(Base):\n",
    "\n",
    "    __tablename__ = 'macrodata'\n",
    "    index =   Column(Integer, primary_key=True)\n",
    "    iso3Code = Column(String(255))\n",
    "    iso2Code = Column(String(255))\n",
    "    country = Column(String(255))\n",
    "    year = Column(Integer)\n",
    "    indicator = Column(String(255))\n",
    "    value = Column(Float)"
   ]
  },
  {
   "cell_type": "code",
   "execution_count": 8,
   "metadata": {},
   "outputs": [],
   "source": [
    "# Create tables if they do not exist\n",
    "Base.metadata.create_all(engine)"
   ]
  },
  {
   "cell_type": "code",
   "execution_count": 9,
   "metadata": {},
   "outputs": [
    {
     "name": "stdout",
     "output_type": "stream",
     "text": [
      "<class '__main__.countries'>\n",
      "<class '__main__.immigration'>\n",
      "<class '__main__.macrodata'>\n"
     ]
    }
   ],
   "source": [
    "print(countries)\n",
    "print(immigration)\n",
    "print(macrodata)"
   ]
  },
  {
   "cell_type": "code",
   "execution_count": 10,
   "metadata": {},
   "outputs": [
    {
     "name": "stdout",
     "output_type": "stream",
     "text": [
      "Data imported successfully!\n"
     ]
    }
   ],
   "source": [
    "# Read the CSV file into a DataFrame\n",
    "csv_file_path = 'Output/countries_list_UN_referential.csv'  # Adjust the path as necessary\n",
    "df = pd.read_csv(csv_file_path)\n",
    "\n",
    "# Write the DataFrame to the SQL table\n",
    "df.to_sql('countries', con=engine, if_exists='append', index=False)\n",
    "\n",
    "print(\"Data imported successfully!\")"
   ]
  },
  {
   "cell_type": "code",
   "execution_count": 11,
   "metadata": {},
   "outputs": [
    {
     "name": "stdout",
     "output_type": "stream",
     "text": [
      "Data imported successfully!\n"
     ]
    }
   ],
   "source": [
    "# Read the CSV file into a DataFrame\n",
    "csv_file_path = 'Output/immigrants_by_country_monthly.csv'  # Adjust the path as necessary\n",
    "df = pd.read_csv(csv_file_path)\n",
    "\n",
    "# Write the DataFrame to the SQL table\n",
    "df.to_sql('immigration', con=engine, if_exists='append', index=False)\n",
    "\n",
    "print(\"Data imported successfully!\")"
   ]
  },
  {
   "cell_type": "code",
   "execution_count": 12,
   "metadata": {},
   "outputs": [
    {
     "name": "stdout",
     "output_type": "stream",
     "text": [
      "Data imported successfully!\n"
     ]
    }
   ],
   "source": [
    "# Read the CSV file into a DataFrame\n",
    "csv_file_path = 'Output/macro_economic_data.csv'  # Adjust the path as necessary\n",
    "df = pd.read_csv(csv_file_path)\n",
    "\n",
    "# Write the DataFrame to the SQL table\n",
    "df.to_sql('macrodata', con=engine, if_exists='append', index=False)\n",
    "\n",
    "print(\"Data imported successfully!\")"
   ]
  }
 ],
 "metadata": {
  "kernelspec": {
   "display_name": "base",
   "language": "python",
   "name": "python3"
  },
  "language_info": {
   "codemirror_mode": {
    "name": "ipython",
    "version": 3
   },
   "file_extension": ".py",
   "mimetype": "text/x-python",
   "name": "python",
   "nbconvert_exporter": "python",
   "pygments_lexer": "ipython3",
   "version": "3.12.3"
  }
 },
 "nbformat": 4,
 "nbformat_minor": 2
}
